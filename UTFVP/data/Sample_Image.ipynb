{
 "cells": [
  {
   "cell_type": "markdown",
   "metadata": {},
   "source": [
    "## save sample imgs"
   ]
  },
  {
   "cell_type": "code",
   "execution_count": null,
   "metadata": {},
   "outputs": [],
   "source": [
    "# Please specify path_to_utfvp_database\n",
    "path_to_utfvp_database = '<path_to_utfvp_database>'"
   ]
  },
  {
   "cell_type": "code",
   "execution_count": null,
   "metadata": {},
   "outputs": [],
   "source": [
    "print(\"start the code\")\n",
    "import numpy as np\n",
    "from bob.bio.vein.configurations.utfvp import database\n",
    "import bob.io.base\n",
    "\n",
    "from bob.bio.vein.preprocessor import NoCrop, TomesLeeMask, HuangNormalization, \\\n",
    "    NoFilter, Preprocessor\n",
    "\n",
    "preprocessor = Preprocessor(\n",
    "    crop=NoCrop(),\n",
    "    mask=TomesLeeMask(),\n",
    "    normalize=HuangNormalization(),\n",
    "    filter=NoFilter(),\n",
    "    )\n",
    "\n",
    "\n",
    "from bob.bio.vein.extractor import WideLineDetector\n",
    "WLD_extractor = WideLineDetector()\n",
    "\n",
    "\n",
    "from bob.bio.vein.extractor import MaximumCurvature\n",
    "MC_extractor = MaximumCurvature()\n",
    "\n",
    "\n",
    "from bob.bio.vein.extractor import RepeatedLineTracking\n",
    "RLT_extractor = RepeatedLineTracking()\n",
    "\n",
    "all_Files = database.objects(protocol='nom', groups='world')\n",
    "    \n",
    "######################################################################    \n",
    "import time \n",
    "\n",
    "for i,obj in enumerate(all_Files):\n",
    "    \n",
    "    if i==0:\n",
    "        path=obj.make_path(path_to_utfvp_database,'.png')\n",
    "        image = bob.io.base.load(path)\n",
    "        image_and_mask = preprocessor(image)\n",
    "        WLD_feature = WLD_extractor(image_and_mask)\n",
    "        MC_feature = MC_extractor(image_and_mask)\n",
    "        RLT_feature = RLT_extractor(image_and_mask)\n",
    "        bob.io.base.save(image,\"img_1.png\")\n",
    "        bob.io.base.save(np.uint8(WLD_feature*255),\"WLD_1.png\")\n",
    "        bob.io.base.save(np.uint8(MC_feature*255),\"MC_1.png\")\n",
    "        bob.io.base.save(np.uint8(RLT_feature*255),\"RLT_1.png\")\n",
    "\n",
    "        \n",
    "    if i==24:\n",
    "        path=obj.make_path(path_to_utfvp_database,'.png')\n",
    "        image = bob.io.base.load(path)\n",
    "        image_and_mask = preprocessor(image)\n",
    "        WLD_feature = WLD_extractor(image_and_mask)\n",
    "        MC_feature = MC_extractor(image_and_mask)\n",
    "        RLT_feature = RLT_extractor(image_and_mask)\n",
    "        bob.io.base.save(image,\"img_2.png\")\n",
    "        bob.io.base.save(np.uint8(WLD_feature*255),\"WLD_2.png\")\n",
    "        bob.io.base.save(np.uint8(MC_feature*255),\"MC_2.png\")\n",
    "        bob.io.base.save(np.uint8(RLT_feature*255),\"RLT_2.png\")\n",
    "        \n",
    "    if i>24:\n",
    "        break"
   ]
  }
 ],
 "metadata": {
  "kernelspec": {
   "display_name": "Python 3",
   "language": "python",
   "name": "python3"
  },
  "language_info": {
   "codemirror_mode": {
    "name": "ipython",
    "version": 3
   },
   "file_extension": ".py",
   "mimetype": "text/x-python",
   "name": "python",
   "nbconvert_exporter": "python",
   "pygments_lexer": "ipython3",
   "version": "3.8.2"
  }
 },
 "nbformat": 4,
 "nbformat_minor": 4
}
