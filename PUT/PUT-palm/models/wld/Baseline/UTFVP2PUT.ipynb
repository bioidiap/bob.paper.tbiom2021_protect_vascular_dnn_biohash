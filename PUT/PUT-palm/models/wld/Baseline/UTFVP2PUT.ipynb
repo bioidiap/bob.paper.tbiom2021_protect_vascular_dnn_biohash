{
 "cells": [
  {
   "cell_type": "code",
   "execution_count": 16,
   "metadata": {},
   "outputs": [],
   "source": [
    "from bob.bio.base.tools.FileSelector import FileSelector \n",
    "from bob.bio.vein.configurations.putvein import database\n",
    "database.protocol = 'palm-R_1'\n",
    "FileSelector.create(\n",
    "  database=database,\n",
    "  extractor_file='',\n",
    "  projector_file='',\n",
    "  enroller_file='',\n",
    "  preprocessed_directory='',\n",
    "  extracted_directory='',\n",
    "  projected_directory='',\n",
    "  model_directories='',\n",
    "  score_directories='',\n",
    "  zt_score_directories='',\n",
    "  compressed_extension='',\n",
    "  default_extension='',\n",
    "  zt_norm = None\n",
    ")\n",
    "fs = FileSelector.instance()\n",
    "original_data_files = fs.original_data_list(groups=['dev','eval']) \n",
    "sample_id = -1  # initialise to -1 so that the first time sample_id is incremented it will be 0\n"
   ]
  },
  {
   "cell_type": "code",
   "execution_count": 26,
   "metadata": {},
   "outputs": [],
   "source": [
    "file_object = original_data_files[sample_id]\n",
    "user_seed = file_object.client_id#int(''.join([str(ch-48) for ch in (''.join(file_object.client_id.split('_'))).encode('ascii')])) # e.g., client_id 25_1 becomes user_seed 251, client_id 001_L -> 001_28 -> user_seed 128       "
   ]
  }
 ],
 "metadata": {
  "kernelspec": {
   "display_name": "Python 3",
   "language": "python",
   "name": "python3"
  },
  "language_info": {
   "codemirror_mode": {
    "name": "ipython",
    "version": 3
   },
   "file_extension": ".py",
   "mimetype": "text/x-python",
   "name": "python",
   "nbconvert_exporter": "python",
   "pygments_lexer": "ipython3",
   "version": "3.7.7"
  }
 },
 "nbformat": 4,
 "nbformat_minor": 4
}
